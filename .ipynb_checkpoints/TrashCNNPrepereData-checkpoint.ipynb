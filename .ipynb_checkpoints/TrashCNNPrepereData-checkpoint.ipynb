{
 "cells": [
  {
   "cell_type": "code",
   "execution_count": 48,
   "metadata": {},
   "outputs": [],
   "source": [
    "import shutil\n",
    "import os\n",
    "import random\n",
    "from PIL import Image, ImageDraw #Подключим необходимые библиотеки. \n"
   ]
  },
  {
   "cell_type": "code",
   "execution_count": 49,
   "metadata": {},
   "outputs": [],
   "source": [
    "# Каталог с набором данных\n",
    "data_dir = 'C:/Users/chaba/Python/dlpython_course/dataset-resized/resized'\n",
    "# Каталог с данными для обучения\n",
    "train_dir = 'train'\n",
    "# Каталог с данными для проверки\n",
    "val_dir = 'val'\n",
    "# Каталог с данными для тестирования\n",
    "test_dir = 'test'\n",
    "# Часть набора данных для тестирования\n",
    "test_data_portion = 0.15\n",
    "# Часть набора данных для проверки\n",
    "val_data_portion = 0.15\n",
    "# Количество элементов данных в одном классе\n",
    "nb_images = 403"
   ]
  },
  {
   "cell_type": "code",
   "execution_count": 50,
   "metadata": {},
   "outputs": [],
   "source": [
    "def create_directory(dir_name):\n",
    "    print(dir_name)\n",
    "    if os.path.exists(dir_name):\n",
    "        shutil.rmtree(dir_name)\n",
    "    os.makedirs(dir_name)\n",
    "    os.makedirs(os.path.join(dir_name, \"cardboard\"))#cardboard\n",
    "    print(os.path.join(dir_name, \"cardboard\"))\n",
    "    os.makedirs(os.path.join(dir_name, \"glass\"))\n",
    "    os.makedirs(os.path.join(dir_name, \"metal\"))\n",
    "    os.makedirs(os.path.join(dir_name, \"paper\"))\n",
    "    os.makedirs(os.path.join(dir_name, \"plastic\"))\n",
    "#    os.makedirs(os.path.join(dir_name, \"trash\"))\n",
    "    #glass\n",
    "    #metal\n",
    "    #paper\n",
    "    #plastic\n",
    "    #trash"
   ]
  },
  {
   "cell_type": "code",
   "execution_count": null,
   "metadata": {},
   "outputs": [],
   "source": [
    "def DoGreateImage(greatImage):\n",
    "    \n",
    "    width = greatImage.size[0] #Определяем ширину. \n",
    "    height = greatImage.size[1] #Определяем высоту. \t\n",
    "    pix = greatImage.load() #Выгружаем значения пикселей.\n",
    "\n",
    "    for i in range(width):\n",
    "        for j in range(height):\n",
    "            a = pix[i, j][0]\n",
    "            b = pix[i, j][1]\n",
    "            c = pix[i, j][2]\n",
    "            \n",
    "            S = (a + b + c) // 3\n",
    "            \n",
    "            pix[i, j][0] = S\n",
    "            pix[i, j][1] = S\n",
    "            pix[i, j][2] = S"
   ]
  },
  {
   "cell_type": "code",
   "execution_count": null,
   "metadata": {},
   "outputs": [],
   "source": [
    "def Sepia(image):\n",
    "    width = image.size[0] #Определяем ширину. \n",
    "    height = image.size[1] #Определяем высоту. \t\n",
    "    pix = image.load() #Выгружаем значения пикселей.\n",
    "\n",
    "    depth = random.randint(1, 30)\n",
    "    for i in range(width):\n",
    "        for j in range(height):\n",
    "            a = pix[i, j][0]\n",
    "            b = pix[i, j][1]\n",
    "            c = pix[i, j][2]\n",
    "            S = (a + b + c) // 3\n",
    "            a = S + depth * 2\n",
    "            b = S + depth\n",
    "            c = S\n",
    "            if (a > 255):\n",
    "                a = 255\n",
    "            if (b > 255):\n",
    "                b = 255\n",
    "            if (c > 255):\n",
    "                c = 255\n",
    "            pix[i, j][0] = a\n",
    "            pix[i, j][1] = b\n",
    "            pix[i, j][2] = c"
   ]
  },
  {
   "cell_type": "code",
   "execution_count": null,
   "metadata": {
    "collapsed": true
   },
   "outputs": [],
   "source": [
    "def copyImage(image):\n",
    "    pixelMap = image.load()\n",
    "\n",
    "    newImage = Image.new( image.mode, image.size)\n",
    "    pixelsNew = newImage.load()\n",
    "    for i in range(newImage.size[0]):\n",
    "        for j in range(newImage.size[1]):\n",
    "                pixelsNew[i,j] = pixelMap[i,j]\n",
    "    return newImage"
   ]
  },
  {
   "cell_type": "code",
   "execution_count": null,
   "metadata": {},
   "outputs": [],
   "source": [
    "def negative(image):\n",
    "    width = image.size[0] #Определяем ширину. \n",
    "    height = image.size[1] #Определяем высоту. \t\n",
    "    pix = image.load() #Выгружаем значения пикселей.\n",
    "    for i in range(width):\n",
    "        for j in range(height):\n",
    "            a = pix[i, j][0]\n",
    "            b = pix[i, j][1]\n",
    "            c = pix[i, j][2]\n",
    "            pix[i, j][0] = 255 - a\n",
    "            pix[i, j][1] = 255 - b\n",
    "            pix[i, j][2] = 255 - c"
   ]
  },
  {
   "cell_type": "code",
   "execution_count": null,
   "metadata": {},
   "outputs": [],
   "source": [
    "def generateNewImages(imagesource, destimage, source_dir, dest_dir, ,index):\n",
    "    shutil.copy2(os.path.join(source_dir, imagesource + str(index) + \".jpg\"), \n",
    "                    os.path.join(dest_dir, destimage))\n",
    "    \n",
    "    image = Image.open(imagePath) #Открываем изображение. \n",
    "    greatImage = copyImage(imagePath)\n",
    "    DoGreateImage(greatImage)\n",
    "    fullpath = os.path.join(source_dir, imagesource + str(index + 1) + \".jpg\"), \n",
    "                    os.path.join(dest_dir, destimage)\n",
    "    img.save(fullpath)\n",
    "    \n",
    "    sepiaImage = copyImage(imagePath)\n",
    "    Sepia(sepiaImage)\n",
    "    fullpath = os.path.join(source_dir, imagesource + str(index + 2) + \".jpg\"), \n",
    "                    os.path.join(dest_dir, destimage)\n",
    "    img.save(fullpath)\n",
    "    \n",
    "    negativeImage = copyImage(imagePath)\n",
    "    negative(negativeImage)\n",
    "    fullpath = os.path.join(source_dir, imagesource + str(index + 3) + \".jpg\"), \n",
    "                    os.path.join(dest_dir, \"destimage)\n",
    "    img.save(fullpath)\n",
    "    \n",
    "    return index + 3"
   ]
  },
  {
   "cell_type": "code",
   "execution_count": 51,
   "metadata": {},
   "outputs": [
    {
     "name": "stdout",
     "output_type": "stream",
     "text": [
      "train\n",
      "train\\cardboard\n",
      "val\n",
      "val\\cardboard\n",
      "test\n",
      "test\\cardboard\n"
     ]
    }
   ],
   "source": [
    "create_directory(train_dir)\n",
    "create_directory(val_dir)\n",
    "create_directory(test_dir)"
   ]
  },
  {
   "cell_type": "code",
   "execution_count": 52,
   "metadata": {},
   "outputs": [],
   "source": [
    "def copy_images(start_index, end_index, source_dir, dest_dir):\n",
    "    for i in range(start_index, end_index):\n",
    "        generateNewImages(\"cardboard/cardboard\", \"cardboard\")\n",
    "        shutil.copy2(os.path.join(source_dir, \"cardboard/cardboard\" + str(i) + \".jpg\"), \n",
    "                    os.path.join(dest_dir, \"cardboard\"))\n",
    "        shutil.copy2(os.path.join(source_dir, \"glass/glass\" + str(i) + \".jpg\"), \n",
    "                    os.path.join(dest_dir, \"glass\"))\n",
    "        shutil.copy2(os.path.join(source_dir, \"metal/metal\" + str(i) + \".jpg\"), \n",
    "                    os.path.join(dest_dir, \"metal\"))\n",
    "        shutil.copy2(os.path.join(source_dir, \"paper/paper\" + str(i) + \".jpg\"), \n",
    "                    os.path.join(dest_dir, \"paper\"))\n",
    "        shutil.copy2(os.path.join(source_dir, \"plastic/plastic\" + str(i) + \".jpg\"), \n",
    "                    os.path.join(dest_dir, \"plastic\"))\n",
    "        #shutil.copy2(os.path.join(source_dir, \"trash/trash\" + str(i) + \".jpg\"), \n",
    "        #            os.path.join(dest_dir, \"trash\"))"
   ]
  },
  {
   "cell_type": "code",
   "execution_count": 53,
   "metadata": {},
   "outputs": [
    {
     "name": "stdout",
     "output_type": "stream",
     "text": [
      "282\n",
      "342\n"
     ]
    }
   ],
   "source": [
    "start_val_data_idx = int(nb_images * (1 - val_data_portion - test_data_portion))\n",
    "start_test_data_idx = int(nb_images * (1 - test_data_portion))\n",
    "print(start_val_data_idx)\n",
    "print(start_test_data_idx)  "
   ]
  },
  {
   "cell_type": "code",
   "execution_count": 54,
   "metadata": {},
   "outputs": [],
   "source": [
    "copy_images(1, start_val_data_idx, data_dir, train_dir)\n",
    "copy_images(start_val_data_idx, start_test_data_idx, data_dir, val_dir)\n",
    "copy_images(start_test_data_idx, nb_images, data_dir, test_dir)"
   ]
  },
  {
   "cell_type": "code",
   "execution_count": null,
   "metadata": {},
   "outputs": [],
   "source": [
    "\n"
   ]
  },
  {
   "cell_type": "code",
   "execution_count": null,
   "metadata": {},
   "outputs": [],
   "source": []
  }
 ],
 "metadata": {
  "kernelspec": {
   "display_name": "Python 3",
   "language": "python",
   "name": "python3"
  },
  "language_info": {
   "codemirror_mode": {
    "name": "ipython",
    "version": 3
   },
   "file_extension": ".py",
   "mimetype": "text/x-python",
   "name": "python",
   "nbconvert_exporter": "python",
   "pygments_lexer": "ipython3",
   "version": "3.6.6"
  }
 },
 "nbformat": 4,
 "nbformat_minor": 2
}
