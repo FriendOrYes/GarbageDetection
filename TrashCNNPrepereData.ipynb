{
 "cells": [
  {
   "cell_type": "code",
   "execution_count": 51,
   "metadata": {},
   "outputs": [],
   "source": [
    "import shutil\n",
    "import os\n",
    "import random\n",
    "from PIL import Image, ImageDraw #Подключим необходимые библиотеки. \n",
    "import itertools, collections"
   ]
  },
  {
   "cell_type": "code",
   "execution_count": 65,
   "metadata": {},
   "outputs": [],
   "source": [
    "# Каталог с набором данных\n",
    "data_dir = 'C:/Users/chaba/Python/dlpython_course/dataset-resized/resized'\n",
    "# Каталог с данными для обучения\n",
    "train_dir = 'train'\n",
    "# Каталог с данными для проверки\n",
    "val_dir = 'val'\n",
    "# Каталог с данными для тестирования\n",
    "test_dir = 'test'\n",
    "# Часть набора данных для тестирования\n",
    "test_data_portion = 0.15\n",
    "# Часть набора данных для проверки\n",
    "val_data_portion = 0.15\n",
    "# Количество элементов данных в одном классе\n",
    "nb_images = 403"
   ]
  },
  {
   "cell_type": "code",
   "execution_count": 4,
   "metadata": {},
   "outputs": [],
   "source": [
    "def create_directory(dir_name):\n",
    "    print(dir_name)\n",
    "    if os.path.exists(dir_name):\n",
    "        shutil.rmtree(dir_name)\n",
    "    os.makedirs(dir_name)\n",
    "    os.makedirs(os.path.join(dir_name, \"cardboard\"))#cardboard\n",
    "    print(os.path.join(dir_name, \"cardboard\"))\n",
    "    os.makedirs(os.path.join(dir_name, \"glass\"))\n",
    "    os.makedirs(os.path.join(dir_name, \"metal\"))\n",
    "    os.makedirs(os.path.join(dir_name, \"paper\"))\n",
    "    os.makedirs(os.path.join(dir_name, \"plastic\"))\n",
    "#    os.makedirs(os.path.join(dir_name, \"trash\"))\n",
    "    #glass\n",
    "    #metal\n",
    "    #paper\n",
    "    #plastic\n",
    "    #trash"
   ]
  },
  {
   "cell_type": "code",
   "execution_count": 34,
   "metadata": {},
   "outputs": [],
   "source": [
    "def noisyImage(image):\n",
    "    width = image.size[0] #Определяем ширину. \n",
    "    height = image.size[1] #Определяем высоту. \t\n",
    "    pix = image.load() #Выгружаем значения пикселей.\n",
    "    factor = random.randint(10, 40)\n",
    "    for i in range(width):\n",
    "        for j in range(height):\n",
    "            rand = random.randint(-factor, factor)\n",
    "            a = pix[i, j][0] + rand\n",
    "            b = pix[i, j][1] + rand\n",
    "            c = pix[i, j][2] + rand\n",
    "            if (a < 0):\n",
    "                a = 0\n",
    "            if (b < 0):\n",
    "                b = 0\n",
    "            if (c < 0):\n",
    "                c = 0\n",
    "            if (a > 255):\n",
    "                a = 255\n",
    "            if (b > 255):\n",
    "                b = 255\n",
    "            if (c > 255):\n",
    "                c = 255\n",
    "            pix[i, j] = (a, b, c)"
   ]
  },
  {
   "cell_type": "code",
   "execution_count": 35,
   "metadata": {},
   "outputs": [],
   "source": [
    "def DoGreateImage(image):\n",
    "    \n",
    "    width = image.size[0] #Определяем ширину. \n",
    "    height = image.size[1] #Определяем высоту. \t\n",
    "    pix = image.load() #Выгружаем значения пикселей.\n",
    "\n",
    "    for i in range(width):\n",
    "        for j in range(height):\n",
    "            a = pix[i, j][0]\n",
    "            b = pix[i, j][1]\n",
    "            c = pix[i, j][2]\n",
    "            \n",
    "            S = (a + b + c) // 3\n",
    "            \n",
    "            pix[i, j] = (S, S, S)"
   ]
  },
  {
   "cell_type": "code",
   "execution_count": 36,
   "metadata": {},
   "outputs": [],
   "source": [
    "def Sepia(image):\n",
    "    width = image.size[0] #Определяем ширину. \n",
    "    height = image.size[1] #Определяем высоту. \t\n",
    "    pix = image.load() #Выгружаем значения пикселей.\n",
    "\n",
    "    depth = random.randint(1, 30)\n",
    "    for i in range(width):\n",
    "        for j in range(height):\n",
    "            a = pix[i, j][0]\n",
    "            b = pix[i, j][1]\n",
    "            c = pix[i, j][2]\n",
    "            S = (a + b + c) // 3\n",
    "            a = S + depth * 2\n",
    "            b = S + depth\n",
    "            c = S\n",
    "            if (a > 255):\n",
    "                a = 255\n",
    "            if (b > 255):\n",
    "                b = 255\n",
    "            if (c > 255):\n",
    "                c = 255\n",
    "            pix[i, j] = (a, b, c)"
   ]
  },
  {
   "cell_type": "code",
   "execution_count": 37,
   "metadata": {},
   "outputs": [],
   "source": [
    "def copyImage(image):\n",
    "    pixelMap = image.load()\n",
    "\n",
    "    newImage = Image.new( image.mode, image.size)\n",
    "    pixelsNew = newImage.load()\n",
    "    for i in range(newImage.size[0]):\n",
    "        for j in range(newImage.size[1]):\n",
    "                pixelsNew[i,j] = pixelMap[i,j]\n",
    "    return newImage"
   ]
  },
  {
   "cell_type": "code",
   "execution_count": 38,
   "metadata": {},
   "outputs": [],
   "source": [
    "def negative(image):\n",
    "    width = image.size[0] #Определяем ширину. \n",
    "    height = image.size[1] #Определяем высоту. \t\n",
    "    pix = image.load() #Выгружаем значения пикселей.\n",
    "    for i in range(width):\n",
    "        for j in range(height):\n",
    "            a = pix[i, j][0]\n",
    "            b = pix[i, j][1]\n",
    "            c = pix[i, j][2]\n",
    "            pix[i, j] = (255 - a, 255 - b, 255 - c)"
   ]
  },
  {
   "cell_type": "code",
   "execution_count": 57,
   "metadata": {},
   "outputs": [],
   "source": [
    "def generateNewImages(imagesource, destimage, source_dir, dest_dir, i, index):\n",
    "    shutil.copy2(os.path.join(source_dir, imagesource + str(i) + \".jpg\"), \n",
    "                    os.path.join(dest_dir, destimage + \"/\" + destimage + str(index) + \".jpg\"))\n",
    "    \n",
    "    image = Image.open(dest_dir + \"/\" + destimage + \"/\" + destimage + str(index) + \".jpg\") #Открываем изображение. \n",
    "    \n",
    "    greatImage = copyImage(image)\n",
    "    DoGreateImage(greatImage)\n",
    "    fullpath = os.path.join(dest_dir + \"/\" + destimage + \"/\" + destimage + str(index + 1) + \".jpg\") \n",
    "\n",
    "    greatImage.save(fullpath)\n",
    "    \n",
    "    sepiaImage = copyImage(image)\n",
    "    Sepia(sepiaImage)\n",
    "    fullpath = os.path.join(dest_dir + \"/\" + destimage + \"/\" + destimage + str(index + 2) + \".jpg\")\n",
    "    sepiaImage.save(fullpath)\n",
    "    \n",
    "    negativeImage = copyImage(image)\n",
    "    negative(negativeImage)\n",
    "    fullpath = os.path.join(dest_dir + \"/\" + destimage + \"/\" + destimage + str(index + 3) + \".jpg\")\n",
    "    negativeImage.save(fullpath)\n",
    "    \n",
    "                                     \n",
    "    noisyIm = copyImage(image)\n",
    "    noisyImage(negativeImage)\n",
    "    fullpath = os.path.join(dest_dir + \"/\" + destimage + \"/\" + destimage + str(index + 4) + \".jpg\")\n",
    "    noisyIm.save(fullpath)                       "
   ]
  },
  {
   "cell_type": "code",
   "execution_count": 66,
   "metadata": {},
   "outputs": [
    {
     "name": "stdout",
     "output_type": "stream",
     "text": [
      "train\n",
      "train\\cardboard\n",
      "val\n",
      "val\\cardboard\n",
      "test\n",
      "test\\cardboard\n"
     ]
    }
   ],
   "source": [
    "create_directory(train_dir)\n",
    "create_directory(val_dir)\n",
    "create_directory(test_dir)"
   ]
  },
  {
   "cell_type": "code",
   "execution_count": 67,
   "metadata": {},
   "outputs": [],
   "source": [
    "def consume(iterator, n):\n",
    "    collections.deque(itertools.islice(iterator, n))\n",
    "    \n",
    "def copy_images(start_index, end_index, source_dir, dest_dir, index):\n",
    "    for i in range(start_index, end_index):\n",
    "        generateNewImages(\"cardboard/cardboard\", \"cardboard\", source_dir, dest_dir, i, index)\n",
    "        generateNewImages(\"glass/glass\", \"glass\", source_dir, dest_dir, i, index)\n",
    "        generateNewImages(\"metal/metal\", \"metal\", source_dir, dest_dir, i, index)\n",
    "        generateNewImages(\"paper/paper\", \"paper\", source_dir, dest_dir, i, index)\n",
    "        generateNewImages(\"plastic/plastic\", \"plastic\", source_dir, dest_dir, i, index)\n",
    "        index += 5\n",
    "        #shutil.copy2(os.path.join(source_dir, \"trash/trash\" + str(i) + \".jpg\"), \n",
    "        #            os.path.join(dest_dir, \"trash\"))\n",
    "    return index"
   ]
  },
  {
   "cell_type": "code",
   "execution_count": 68,
   "metadata": {},
   "outputs": [
    {
     "name": "stdout",
     "output_type": "stream",
     "text": [
      "282\n",
      "342\n"
     ]
    }
   ],
   "source": [
    "start_val_data_idx = int(nb_images * (1 - val_data_portion - test_data_portion))\n",
    "start_test_data_idx = int(nb_images * (1 - test_data_portion))\n",
    "print(start_val_data_idx)\n",
    "print(start_test_data_idx)  "
   ]
  },
  {
   "cell_type": "code",
   "execution_count": 69,
   "metadata": {},
   "outputs": [
    {
     "data": {
      "text/plain": [
       "2011"
      ]
     },
     "execution_count": 69,
     "metadata": {},
     "output_type": "execute_result"
    }
   ],
   "source": [
    "index = copy_images(1, start_val_data_idx, data_dir, train_dir, 1)\n",
    "index = copy_images(start_val_data_idx, start_test_data_idx, data_dir, val_dir, index)\n",
    "copy_images(start_test_data_idx, nb_images, data_dir, test_dir, index)"
   ]
  },
  {
   "cell_type": "code",
   "execution_count": null,
   "metadata": {},
   "outputs": [],
   "source": [
    "\n"
   ]
  },
  {
   "cell_type": "code",
   "execution_count": null,
   "metadata": {},
   "outputs": [],
   "source": []
  },
  {
   "cell_type": "code",
   "execution_count": null,
   "metadata": {},
   "outputs": [],
   "source": []
  }
 ],
 "metadata": {
  "kernelspec": {
   "display_name": "Python 3",
   "language": "python",
   "name": "python3"
  },
  "language_info": {
   "codemirror_mode": {
    "name": "ipython",
    "version": 3
   },
   "file_extension": ".py",
   "mimetype": "text/x-python",
   "name": "python",
   "nbconvert_exporter": "python",
   "pygments_lexer": "ipython3",
   "version": "3.6.6"
  }
 },
 "nbformat": 4,
 "nbformat_minor": 2
}
